{
 "cells": [
  {
   "cell_type": "markdown",
   "id": "bf0bb859",
   "metadata": {
    "papermill": {
     "duration": 0.002982,
     "end_time": "2023-02-13T04:09:38.771091",
     "exception": false,
     "start_time": "2023-02-13T04:09:38.768109",
     "status": "completed"
    },
    "tags": []
   },
   "source": [
    "# Data Collection & Data Labelling"
   ]
  },
  {
   "cell_type": "code",
   "execution_count": 1,
   "id": "1f465e0d",
   "metadata": {
    "execution": {
     "iopub.execute_input": "2023-02-13T04:09:38.777514Z",
     "iopub.status.busy": "2023-02-13T04:09:38.776689Z",
     "iopub.status.idle": "2023-02-13T04:10:08.114181Z",
     "shell.execute_reply": "2023-02-13T04:10:08.113093Z"
    },
    "papermill": {
     "duration": 29.343928,
     "end_time": "2023-02-13T04:10:08.117234",
     "exception": false,
     "start_time": "2023-02-13T04:09:38.773306",
     "status": "completed"
    },
    "tags": []
   },
   "outputs": [],
   "source": [
    "import os\n",
    "import glob\n",
    "import shutil\n",
    "\n",
    "# Define the path to the audio speech and song folders\n",
    "speech_folder = '/kaggle/input/voice-of-emotion/Audio_Song_Actors_01-24'\n",
    "song_folder = '/kaggle/input/voice-of-emotion/Audio_Speech_Actors_01-24'\n",
    "\n",
    "# Create a dictionary to map the emotion code in the filenames to an emotion label\n",
    "emotion_map = {\n",
    "    '01': 'neutral',\n",
    "    '02': 'calm',\n",
    "    '03': 'happy',\n",
    "    '04': 'sad',\n",
    "    '05': 'angry',\n",
    "    '06': 'fearful',\n",
    "    '07': 'disgust',\n",
    "    '08': 'surprised',\n",
    "}\n",
    "\n",
    "# Create a folder for each emotion label\n",
    "for emotion in emotion_map.values():\n",
    "    os.makedirs(emotion, exist_ok=True)\n",
    "\n",
    "# Loop through the speech and song folders\n",
    "for folder in [speech_folder, song_folder]:\n",
    "    # Loop through the actor sub-folders\n",
    "    for actor_folder in glob.glob(os.path.join(folder, 'Actor*')):\n",
    "        # Loop through the audio files in each actor sub-folder\n",
    "        for audio_file in glob.glob(os.path.join(actor_folder, '*.wav')):\n",
    "            # Extract the emotion code from the filename\n",
    "            filename = os.path.basename(audio_file)\n",
    "            emotion_code = filename.split('-')[2]\n",
    "            \n",
    "            # Map the emotion code to an emotion label\n",
    "            emotion_label = emotion_map[emotion_code]\n",
    "            \n",
    "            # Copy the audio file to the corresponding emotion folder\n",
    "            shutil.copy2(audio_file, os.path.join(emotion_label, filename))\n"
   ]
  }
 ],
 "metadata": {
  "kernelspec": {
   "display_name": "Python 3",
   "language": "python",
   "name": "python3"
  },
  "language_info": {
   "codemirror_mode": {
    "name": "ipython",
    "version": 3
   },
   "file_extension": ".py",
   "mimetype": "text/x-python",
   "name": "python",
   "nbconvert_exporter": "python",
   "pygments_lexer": "ipython3",
   "version": "3.7.12"
  },
  "papermill": {
   "default_parameters": {},
   "duration": 39.355311,
   "end_time": "2023-02-13T04:10:08.942162",
   "environment_variables": {},
   "exception": null,
   "input_path": "__notebook__.ipynb",
   "output_path": "__notebook__.ipynb",
   "parameters": {},
   "start_time": "2023-02-13T04:09:29.586851",
   "version": "2.3.4"
  }
 },
 "nbformat": 4,
 "nbformat_minor": 5
}
