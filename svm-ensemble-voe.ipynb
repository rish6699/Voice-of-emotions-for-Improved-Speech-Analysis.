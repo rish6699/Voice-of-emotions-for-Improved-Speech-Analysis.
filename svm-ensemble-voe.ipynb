{
 "cells": [
  {
   "cell_type": "code",
   "execution_count": 1,
   "id": "364049ba",
   "metadata": {
    "execution": {
     "iopub.execute_input": "2023-05-02T15:52:16.555254Z",
     "iopub.status.busy": "2023-05-02T15:52:16.554902Z",
     "iopub.status.idle": "2023-05-02T17:54:42.484729Z",
     "shell.execute_reply": "2023-05-02T17:54:42.483829Z"
    },
    "papermill": {
     "duration": 7345.934798,
     "end_time": "2023-05-02T17:54:42.486868",
     "exception": false,
     "start_time": "2023-05-02T15:52:16.552070",
     "status": "completed"
    },
    "tags": []
   },
   "outputs": [
    {
     "name": "stderr",
     "output_type": "stream",
     "text": [
      "/opt/conda/lib/python3.10/site-packages/scipy/__init__.py:146: UserWarning: A NumPy version >=1.16.5 and <1.23.0 is required for this version of SciPy (detected version 1.23.5\n",
      "  warnings.warn(f\"A NumPy version >={np_minversion} and <{np_maxversion}\"\n"
     ]
    },
    {
     "name": "stdout",
     "output_type": "stream",
     "text": [
      "Found 3960 images belonging to 8 classes.\n",
      "Found 1130 images belonging to 8 classes.\n",
      "Found 575 images belonging to 8 classes.\n",
      "36/36 [==============================] - 9s 222ms/step\n",
      "18/18 [==============================] - 10s 548ms/step\n",
      "36/36 [==============================] - 10s 231ms/step\n",
      "18/18 [==============================] - 4s 228ms/step\n",
      "Ensemble test accuracy: 0.1408695652173913\n"
     ]
    }
   ],
   "source": [
    "from keras.models import load_model\n",
    "from keras.preprocessing.image import ImageDataGenerator\n",
    "from sklearn.svm import SVC\n",
    "from sklearn.ensemble import StackingClassifier, AdaBoostClassifier\n",
    "from sklearn.tree import DecisionTreeClassifier\n",
    "from sklearn.metrics import accuracy_score\n",
    "import numpy as np\n",
    "import warnings\n",
    "warnings.filterwarnings('ignore')\n",
    "\n",
    "# Load the pre-trained models\n",
    "cnn_model = load_model('/kaggle/input/models/CNN.h5')\n",
    "lstm_model = load_model('/kaggle/input/models/LSTM.h5')\n",
    "\n",
    "# Define the input shape and number of classes\n",
    "INPUT_SHAPE = (224, 224, 3)\n",
    "NUM_CLASSES = 8\n",
    "\n",
    "# Define the batch size\n",
    "batch_size = 32\n",
    "\n",
    "# Create data generators for the training, validation, and test sets\n",
    "train_datagen = ImageDataGenerator(rescale=1./255,\n",
    "                                   rotation_range=20,\n",
    "                                   width_shift_range=0.1,\n",
    "                                   height_shift_range=0.1,\n",
    "                                   shear_range=0.1,\n",
    "                                   zoom_range=0.1,\n",
    "                                   horizontal_flip=True,\n",
    "                                   vertical_flip=True,\n",
    "                                   fill_mode='nearest')\n",
    "train_generator = train_datagen.flow_from_directory(\n",
    "        '/kaggle/input/preprocessed-dataset/dataset-split/train/',\n",
    "        target_size=INPUT_SHAPE[:2],\n",
    "        batch_size=batch_size,\n",
    "        class_mode='categorical',\n",
    "        shuffle=True)\n",
    "\n",
    "val_datagen = ImageDataGenerator(rescale=1./255)\n",
    "val_generator = val_datagen.flow_from_directory(\n",
    "        '/kaggle/input/preprocessed-dataset/dataset-split/val/',\n",
    "        target_size=INPUT_SHAPE[:2],\n",
    "        batch_size=batch_size,\n",
    "        class_mode='categorical',\n",
    "        shuffle=True)\n",
    "\n",
    "test_datagen = ImageDataGenerator(rescale=1./255)\n",
    "test_generator = test_datagen.flow_from_directory(\n",
    "        '/kaggle/input/preprocessed-dataset/dataset-split/test/',\n",
    "        target_size=INPUT_SHAPE[:2],\n",
    "        batch_size=batch_size,\n",
    "        class_mode='categorical',\n",
    "        shuffle=False)\n",
    "\n",
    "# Fit the CNN model\n",
    "cnn_model.fit(train_generator, epochs=50, validation_data=val_generator, verbose=0)\n",
    "\n",
    "# Fit the LSTM model\n",
    "lstm_model.fit(train_generator, epochs=50, validation_data=val_generator, verbose=0)\n",
    "\n",
    "# Make predictions on the validation and test sets using the CNN and LSTM models\n",
    "val_cnn_preds = cnn_model.predict(val_generator)\n",
    "test_cnn_preds = cnn_model.predict(test_generator)\n",
    "\n",
    "val_lstm_preds = lstm_model.predict(val_generator)\n",
    "test_lstm_preds = lstm_model.predict(test_generator)\n",
    "\n",
    "# Concatenate the CNN and LSTM predictions for the validation and test sets\n",
    "val_preds = np.concatenate((val_cnn_preds, val_lstm_preds), axis=1)\n",
    "test_preds = np.concatenate((test_cnn_preds, test_lstm_preds), axis=1)\n",
    "\n",
    "# Train an AdaBoost classifier on the concatenated predictions\n",
    "base_estimator = DecisionTreeClassifier(max_depth=1)\n",
    "ada_clf = AdaBoostClassifier(base_estimator=base_estimator, n_estimators=100)\n",
    "ada_clf.fit(val_preds, val_generator.labels)\n",
    "\n",
    "# Use the ensemble to make predictions on the test set\n",
    "ensemble_preds = ada_clf.predict(test_preds)\n",
    "ensemble_acc = accuracy_score(test_generator.labels, ensemble_preds)\n",
    "\n",
    "print('Ensemble test accuracy:', ensemble_acc)\n"
   ]
  }
 ],
 "metadata": {
  "kernelspec": {
   "display_name": "Python 3",
   "language": "python",
   "name": "python3"
  },
  "language_info": {
   "codemirror_mode": {
    "name": "ipython",
    "version": 3
   },
   "file_extension": ".py",
   "mimetype": "text/x-python",
   "name": "python",
   "nbconvert_exporter": "python",
   "pygments_lexer": "ipython3",
   "version": "3.10.10"
  },
  "papermill": {
   "default_parameters": {},
   "duration": 7358.761324,
   "end_time": "2023-05-02T17:54:46.181106",
   "environment_variables": {},
   "exception": null,
   "input_path": "__notebook__.ipynb",
   "output_path": "__notebook__.ipynb",
   "parameters": {},
   "start_time": "2023-05-02T15:52:07.419782",
   "version": "2.4.0"
  }
 },
 "nbformat": 4,
 "nbformat_minor": 5
}
